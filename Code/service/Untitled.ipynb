{
 "cells": [
  {
   "cell_type": "code",
   "execution_count": 1,
   "metadata": {},
   "outputs": [],
   "source": [
    "import sys\n",
    "import path\n",
    "import os\n",
    "import glob\n",
    "from PIL import Image"
   ]
  },
  {
   "cell_type": "code",
   "execution_count": 17,
   "metadata": {},
   "outputs": [],
   "source": [
    "import torch\n",
    "from PIL import Image\n",
    "import matplotlib.pyplot as plt\n",
    "# from utils import *\n",
    "import torchvision.transforms as transforms\n",
    "from models.model import Encoder\n",
    "\n",
    "\n",
    "def set_transform(resize=(256, 256), crop_size=(224, 224), horizontal_flip=False, normalize=True):\n",
    "    compose_lst = []\n",
    "    if resize is not None:\n",
    "        compose_lst.append(transforms.Resize(resize))\n",
    "    if crop_size is not None:\n",
    "        compose_lst.append(transforms.RandomCrop(crop_size))\n",
    "    if horizontal_flip:\n",
    "        compose_lst.append(transforms.RandomHorizontalFlip())\n",
    "    compose_lst.append(transforms.ToTensor())\n",
    "    if normalize:\n",
    "        compose_lst.append(transforms.Normalize((0.485, 0.456, 0.406),\n",
    "                                                (0.229, 0.224, 0.225)))\n",
    "\n",
    "    transform = transforms.Compose(compose_lst)\n",
    "\n",
    "    return transform\n",
    "\n",
    "\n",
    "def load_model(model_path=None):\n",
    "    \"\"\"\n",
    "    Loading model\n",
    "    \"\"\"\n",
    "    model = Encoder()\n",
    "    if model_path == None:\n",
    "        model_path = \"./best_model.th\"\n",
    "    device = torch.device(\"cuda\" if torch.cuda.is_available() else \"cpu\")\n",
    "    #model = model.load_state_dict(torch.load(model_path, map_location=device))\n",
    "    #model_dec = torch.load(model_path + \"final_dec.pth\", map_location=device)\n",
    "    model.eval()\n",
    "    return model\n",
    "\n",
    "\n",
    "def load_labels(vocab_path=None):\n",
    "    import json\n",
    "    with open('classes.json', 'r') as file:\n",
    "        labels = json.load(file)\n",
    "    return labels\n",
    "\n",
    "\n",
    "def get_caption_prediction(img_path):\n",
    "\n",
    "    transform = set_transform()\n",
    "\n",
    "    \n",
    "    # prediction\n",
    "    with torch.no_grad():\n",
    "        imgs = Image.open(img_path).convert(\"RGB\")\n",
    "        img = transform(imgs)\n",
    "        #img = to_variable(img)\n",
    "        img = img.unsqueeze(0)\n",
    "        out = model(img)\n",
    "        _, preds = torch.max(out.data, 1)\n",
    "        preds = preds.cpu().detach().numpy()[0]\n",
    "    #predsa = labels[str(preds)]\n",
    "    return preds#,predsa\n"
   ]
  },
  {
   "cell_type": "code",
   "execution_count": 4,
   "metadata": {},
   "outputs": [],
   "source": [
    "labels = load_labels()\n",
    "model = load_model()"
   ]
  },
  {
   "cell_type": "code",
   "execution_count": 19,
   "metadata": {},
   "outputs": [],
   "source": [
    "import glob\n",
    "images_test = glob.glob(r\"C:\\Users\\User\\Desktop\\cse299 pics\\Flower Classification\\flower_data\\test\\59\\*\")"
   ]
  },
  {
   "cell_type": "code",
   "execution_count": 20,
   "metadata": {},
   "outputs": [
    {
     "name": "stdout",
     "output_type": "stream",
     "text": [
      "43 59\n",
      "59 59\n",
      "found: C:\\Users\\User\\Desktop\\cse299 pics\\Flower Classification\\flower_data\\test\\59\\image_05033.jpg\n",
      "59 59\n",
      "found: C:\\Users\\User\\Desktop\\cse299 pics\\Flower Classification\\flower_data\\test\\59\\image_05038.jpg\n",
      "59 59\n",
      "found: C:\\Users\\User\\Desktop\\cse299 pics\\Flower Classification\\flower_data\\test\\59\\image_05039.jpg\n",
      "108 59\n",
      "59 59\n",
      "found: C:\\Users\\User\\Desktop\\cse299 pics\\Flower Classification\\flower_data\\test\\59\\image_05064.jpg\n",
      "11 59\n"
     ]
    }
   ],
   "source": [
    "match = []\n",
    "for img_path in images_test:\n",
    "    pred = get_caption_prediction(img_path)\n",
    "    \n",
    "    label = img_path.split(\"\\\\\")[-2]\n",
    "    \n",
    "    print(pred,label)\n",
    "    if int(pred) == int(label):\n",
    "        print(f\"found: {img_path}\")\n",
    "        match.append(img_path)\n",
    "   # break\n",
    "    "
   ]
  },
  {
   "cell_type": "code",
   "execution_count": null,
   "metadata": {},
   "outputs": [],
   "source": []
  }
 ],
 "metadata": {
  "kernelspec": {
   "display_name": "Python 3",
   "language": "python",
   "name": "python3"
  },
  "language_info": {
   "codemirror_mode": {
    "name": "ipython",
    "version": 3
   },
   "file_extension": ".py",
   "mimetype": "text/x-python",
   "name": "python",
   "nbconvert_exporter": "python",
   "pygments_lexer": "ipython3",
   "version": "3.7.6"
  }
 },
 "nbformat": 4,
 "nbformat_minor": 4
}
